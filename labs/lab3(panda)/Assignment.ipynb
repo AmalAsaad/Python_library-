{
 "cells": [
  {
   "cell_type": "markdown",
   "metadata": {},
   "source": [
    "use Pandas and matplot to compare the total population in Egypt, USA and Japan in the years 1960, 2000, 2005, 2010 and 2015\n",
    "\n",
    "Get your Dataset from: http://data.worldbank.org/\n",
    "- Search for what you need\n",
    "- Download the CSV file \n",
    "- Read the file and show the required data (If you have any trouble with reading the file in python, try to open it in excel and clean it from the data causing errors)"
   ]
  },
  {
   "cell_type": "code",
   "execution_count": 21,
   "metadata": {
    "collapsed": true
   },
   "outputs": [],
   "source": [
    "import pandas as pd\n",
    "import numpy as np\n",
    "import matplotlib.pyplot as plt\n",
    "%matplotlib inline"
   ]
  },
  {
   "cell_type": "code",
   "execution_count": 22,
   "metadata": {},
   "outputs": [
    {
     "name": "stdout",
     "output_type": "stream",
     "text": [
      "    Country Name Country Code       1960       2000       2005       2010  \\\n",
      "0          Egypt          EGY   26996533   69905988   76778149   84107606   \n",
      "1  United States          USA  180671000  282162411  295516599  309348193   \n",
      "2          Japan          JPN   92500572  126843000  127773000  128070000   \n",
      "\n",
      "        2015  \n",
      "0   93778172  \n",
      "1  320896618  \n",
      "2  127141000  \n"
     ]
    },
    {
     "data": {
      "text/html": [
       "<div>\n",
       "<style>\n",
       "    .dataframe thead tr:only-child th {\n",
       "        text-align: right;\n",
       "    }\n",
       "\n",
       "    .dataframe thead th {\n",
       "        text-align: left;\n",
       "    }\n",
       "\n",
       "    .dataframe tbody tr th {\n",
       "        vertical-align: top;\n",
       "    }\n",
       "</style>\n",
       "<table border=\"1\" class=\"dataframe\">\n",
       "  <thead>\n",
       "    <tr style=\"text-align: right;\">\n",
       "      <th></th>\n",
       "      <th>Country Name</th>\n",
       "      <th>Country Code</th>\n",
       "      <th>1960</th>\n",
       "      <th>2000</th>\n",
       "      <th>2005</th>\n",
       "      <th>2010</th>\n",
       "      <th>2015</th>\n",
       "    </tr>\n",
       "  </thead>\n",
       "  <tbody>\n",
       "    <tr>\n",
       "      <th>0</th>\n",
       "      <td>Egypt</td>\n",
       "      <td>EGY</td>\n",
       "      <td>26996533</td>\n",
       "      <td>69905988</td>\n",
       "      <td>76778149</td>\n",
       "      <td>84107606</td>\n",
       "      <td>93778172</td>\n",
       "    </tr>\n",
       "    <tr>\n",
       "      <th>1</th>\n",
       "      <td>United States</td>\n",
       "      <td>USA</td>\n",
       "      <td>180671000</td>\n",
       "      <td>282162411</td>\n",
       "      <td>295516599</td>\n",
       "      <td>309348193</td>\n",
       "      <td>320896618</td>\n",
       "    </tr>\n",
       "    <tr>\n",
       "      <th>2</th>\n",
       "      <td>Japan</td>\n",
       "      <td>JPN</td>\n",
       "      <td>92500572</td>\n",
       "      <td>126843000</td>\n",
       "      <td>127773000</td>\n",
       "      <td>128070000</td>\n",
       "      <td>127141000</td>\n",
       "    </tr>\n",
       "  </tbody>\n",
       "</table>\n",
       "</div>"
      ],
      "text/plain": [
       "    Country Name Country Code       1960       2000       2005       2010  \\\n",
       "0          Egypt          EGY   26996533   69905988   76778149   84107606   \n",
       "1  United States          USA  180671000  282162411  295516599  309348193   \n",
       "2          Japan          JPN   92500572  126843000  127773000  128070000   \n",
       "\n",
       "        2015  \n",
       "0   93778172  \n",
       "1  320896618  \n",
       "2  127141000  "
      ]
     },
     "execution_count": 22,
     "metadata": {},
     "output_type": "execute_result"
    }
   ],
   "source": [
    "c1=pd.read_csv('data.csv')\n",
    "print(c1)\n",
    "c1.fillna(0)\n"
   ]
  },
  {
   "cell_type": "code",
   "execution_count": 23,
   "metadata": {},
   "outputs": [
    {
     "name": "stdout",
     "output_type": "stream",
     "text": [
      "Country Name       Egypt\n",
      "Country Code         EGY\n",
      "1960            26996533\n",
      "2000            69905988\n",
      "2005            76778149\n",
      "2010            84107606\n",
      "2015            93778172\n",
      "Name: 0, dtype: object\n"
     ]
    }
   ],
   "source": [
    "egypt=c1.iloc[0]\n",
    "print(egypt)\n"
   ]
  },
  {
   "cell_type": "code",
   "execution_count": 24,
   "metadata": {},
   "outputs": [
    {
     "name": "stdout",
     "output_type": "stream",
     "text": [
      "Country Name    United States\n",
      "Country Code              USA\n",
      "1960                180671000\n",
      "2000                282162411\n",
      "2005                295516599\n",
      "2010                309348193\n",
      "2015                320896618\n",
      "Name: 1, dtype: object\n"
     ]
    }
   ],
   "source": [
    "usa=c1.iloc[1]\n",
    "print(usa)"
   ]
  },
  {
   "cell_type": "code",
   "execution_count": 25,
   "metadata": {
    "collapsed": true
   },
   "outputs": [],
   "source": [
    "jap=c1.iloc[2]"
   ]
  },
  {
   "cell_type": "code",
   "execution_count": 26,
   "metadata": {},
   "outputs": [
    {
     "data": {
      "text/plain": [
       "<matplotlib.axes._subplots.AxesSubplot at 0x8bf6128>"
      ]
     },
     "execution_count": 26,
     "metadata": {},
     "output_type": "execute_result"
    },
    {
     "data": {
      "image/png": "[encoded data removed]",
      "text/plain": [
       "<matplotlib.figure.Figure at 0x89f3550>"
      ]
     },
     "metadata": {},
     "output_type": "display_data"
    }
   ],
   "source": [
    "c1.plot()"
   ]
  },
  {
   "cell_type": "code",
   "execution_count": null,
   "metadata": {
    "collapsed": true
   },
   "outputs": [],
   "source": [
    "2"
   ]
  }
 ],
 "metadata": {
  "kernelspec": {
   "display_name": "Python 3",
   "language": "python",
   "name": "python3"
  },
  "language_info": {
   "codemirror_mode": {
    "name": "ipython",
    "version": 3
   },
   "file_extension": ".py",
   "mimetype": "text/x-python",
   "name": "python",
   "nbconvert_exporter": "python",
   "pygments_lexer": "ipython3",
   "version": "3.6.1"
  }
 },
 "nbformat": 4,
 "nbformat_minor": 2
}
