{
 "cells": [
  {
   "cell_type": "markdown",
   "metadata": {},
   "source": [
    "# NumPy exercises"
   ]
  },
  {
   "cell_type": "markdown",
   "metadata": {},
   "source": [
    "Some  of these come from / are inspired from https://github.com/rougier/numpy-100 and http://www.scipy-lectures.org/intro/numpy/exercises.html\n",
    "\n",
    "You might want to look over these lists as well."
   ]
  },
  {
   "cell_type": "code",
   "execution_count": 134,
   "metadata": {
    "collapsed": true
   },
   "outputs": [],
   "source": [
    "import numpy as np"
   ]
  },
  {
   "cell_type": "markdown",
   "metadata": {},
   "source": [
    "## Q1\n",
    "\n",
    "We can use `np.random.random_sample()` to create an array with random values.  By default, these will be in the range `[0.0, 1.0)`.  You can\n",
    "multiple the output and add a scalar to it to get it to be in a different range.\n",
    "\n",
    "Create a 10 x 10 array initialized with random numbers that lie between 0 and 10.\n",
    "\n",
    "Then compute the average of the array (there is a numpy function for this, `np.mean()`)."
   ]
  },
  {
   "cell_type": "code",
   "execution_count": 135,
   "metadata": {},
   "outputs": [
    {
     "data": {
      "text/plain": [
       "array([[ 1.01724239,  7.81242939,  3.24664349,  9.10251807,  5.20290015,\n",
       "         2.42632242,  1.31212582,  9.09407917,  9.01926327,  7.4731452 ],\n",
       "       [ 3.55321994,  8.29095768,  7.79203658,  9.31545912,  3.60474611,\n",
       "         0.14943504,  8.25499255,  8.52932437,  6.76040178,  2.13277504],\n",
       "       [ 9.56312374,  3.0506981 ,  2.43101329,  1.88307301,  2.97104289,\n",
       "         5.94600966,  2.84788007,  7.39544042,  7.53540304,  2.00123249],\n",
       "       [ 7.23923617,  7.60243882,  1.98692243,  4.87078211,  8.96551934,\n",
       "         3.56675584,  7.81112036,  5.86068192,  0.263455  ,  1.68306203],\n",
       "       [ 3.70076833,  3.17519553,  8.79316359,  6.56344948,  2.95223142,\n",
       "         9.93304362,  7.015817  ,  9.09385748,  7.30234067,  0.59433898],\n",
       "       [ 1.62185552,  3.77105313,  7.1615152 ,  2.99259391,  7.73583962,\n",
       "         0.09076631,  5.00826548,  3.87492771,  9.59089475,  3.96680177],\n",
       "       [ 8.92397567,  1.71459471,  6.63638166,  6.08268695,  3.39879813,\n",
       "         0.16257567,  8.37889409,  2.9938373 ,  3.07749672,  2.26290094],\n",
       "       [ 8.15747821,  6.87054759,  1.55147935,  2.97728794,  0.28729342,\n",
       "         5.80146234,  9.93904486,  9.06817096,  6.67937974,  8.99003007],\n",
       "       [ 5.39404518,  3.69879959,  6.89492397,  1.30946064,  3.11624366,\n",
       "         6.42080353,  3.21003379,  3.7754132 ,  8.07743733,  4.74249045],\n",
       "       [ 5.88907123,  6.52079853,  3.38887672,  5.15461382,  0.36715153,\n",
       "         8.62012054,  5.07755864,  3.23678596,  9.55778561,  2.05639667]])"
      ]
     },
     "execution_count": 135,
     "metadata": {},
     "output_type": "execute_result"
    }
   ],
   "source": [
    "#can get the range by multipe the o/p (b-a)+a\n",
    "c=np.random.random_sample((10,10))\n",
    "10*c"
   ]
  },
  {
   "cell_type": "markdown",
   "metadata": {},
   "source": [
    "## Q2\n",
    "\n",
    "Create the array: \n",
    "```\n",
    "[[1,  6, 11],\n",
    " [2,  7, 12],\n",
    " [3,  8, 13],\n",
    " [4,  9, 14],\n",
    " [5, 10, 15]]\n",
    "```\n",
    "with out explicitly typing it in.\n",
    "\n",
    "Now create a new array containing only its 2nd and 4th rows."
   ]
  },
  {
   "cell_type": "code",
   "execution_count": 157,
   "metadata": {},
   "outputs": [
    {
     "ename": "SyntaxError",
     "evalue": "unexpected EOF while parsing (<ipython-input-157-5c5ff6897617>, line 6)",
     "output_type": "error",
     "traceback": [
      "\u001b[1;36m  File \u001b[1;32m\"<ipython-input-157-5c5ff6897617>\"\u001b[1;36m, line \u001b[1;32m6\u001b[0m\n\u001b[1;33m    f=d[np.logical_and(d>=2, d<=4)\u001b[0m\n\u001b[1;37m                                  ^\u001b[0m\n\u001b[1;31mSyntaxError\u001b[0m\u001b[1;31m:\u001b[0m unexpected EOF while parsing\n"
     ]
    }
   ],
   "source": [
    "a=np.arange(15).reshape(3,5)\n",
    "b=np.ones((3,5) ,dtype=np.int32)\n",
    "c=a+b\n",
    "d=c.transpose()\n",
    "print (d)\n",
    "f=d[np.logical_and(d>=2, d<=4)"
   ]
  },
  {
   "cell_type": "markdown",
   "metadata": {},
   "source": [
    "++++++++++++++## Q3\n",
    "\n",
    "Create a 2d array with `1` on the border and `0` on the inside, e.g., like:\n",
    "```\n",
    "1 1 1 1 1\n",
    "1 0 0 0 1\n",
    "1 0 0 0 1\n",
    "1 1 1 1 1\n",
    "```\n",
    "\n",
    "Do this using array slice notation to let it work for an arbitrary-sized array"
   ]
  },
  {
   "cell_type": "code",
   "execution_count": 137,
   "metadata": {},
   "outputs": [
    {
     "data": {
      "text/plain": [
       "array([[1, 1, 1, 1, 1],\n",
       "       [1, 0, 0, 0, 1],\n",
       "       [1, 0, 0, 0, 1],\n",
       "       [1, 1, 1, 1, 1]])"
      ]
     },
     "execution_count": 137,
     "metadata": {},
     "output_type": "execute_result"
    }
   ],
   "source": [
    "m=np.ones((4,5) , dtype=np.int32 )\n",
    "m[1:3,1:4]=0\n",
    "m"
   ]
  },
  {
   "cell_type": "markdown",
   "metadata": {},
   "source": [
    "## Q4\n",
    "\n",
    "  * Create an array with angles in degrees 0, 15, 30, ... 90 (i.e., every 15 degrees up to 90).\n",
    "\n",
    "  * Now create 3 new arrays with the sine, cosine, and tangent of the elements of the first array\n",
    "  \n",
    "  * Finally, calculate the inverse sine, inverse cosine, and inverse tangent the arrays above and compare to the original angles"
   ]
  },
  {
   "cell_type": "code",
   "execution_count": 158,
   "metadata": {},
   "outputs": [
    {
     "name": "stdout",
     "output_type": "stream",
     "text": [
      "[  0.  15.  30.  45.  60.  75.  90.]\n",
      "\n",
      "[ 0.          0.25881905  0.5         0.70710678  0.8660254   0.96592583\n",
      "  1.        ]\n",
      "\n",
      "[  1.00000000e+00   9.65925826e-01   8.66025404e-01   7.07106781e-01\n",
      "   5.00000000e-01   2.58819045e-01   6.12323400e-17]\n",
      "[  0.00000000e+00   2.67949192e-01   5.77350269e-01   1.00000000e+00\n",
      "   1.73205081e+00   3.73205081e+00   1.63312394e+16]\n"
     ]
    }
   ],
   "source": [
    "rad = np.arange(7)*(np.pi/6)/2\n",
    "print(np.degrees(rad))\n",
    "print()\n",
    "a=np.sin(rad)\n",
    "print(a)\n",
    "print()\n",
    "b=np.cos(rad)\n",
    "print(b)\n",
    "c=np.tan(rad)\n",
    "print(c)\n"
   ]
  },
  {
   "cell_type": "markdown",
   "metadata": {},
   "source": [
    "## Q5\n",
    "\n",
    "Given the array:\n",
    "```\n",
    "x = np.array([1, -1, 2, 5, 8, 4, 10, 12, 3])\n",
    "```\n",
    "calculate the difference of each element with its neighbor."
   ]
  },
  {
   "cell_type": "code",
   "execution_count": 139,
   "metadata": {},
   "outputs": [
    {
     "data": {
      "text/plain": [
       "array([-2,  3,  3,  3, -4,  6,  2, -9])"
      ]
     },
     "execution_count": 139,
     "metadata": {},
     "output_type": "execute_result"
    }
   ],
   "source": [
    "x = np.array([1, -1, 2, 5, 8, 4, 10, 12, 3])\n",
    "np.diff(x)\n",
    "x[1:] - x[:-1]"
   ]
  },
  {
   "cell_type": "markdown",
   "metadata": {},
   "source": [
    "## Q6\n",
    "\n",
    "Here we will read in columns of numbers from a file and create a histogram, using NumPy routines.  Make sure you have the data file\n",
    "\"`sample.txt`\" in the same directory as this notebook (you can download it from  https://raw.githubusercontent.com/sbu-python-summer/python-tutorial/master/day-3/sample.txt\n",
    "\n",
    "  * Use `np.loadtxt()` to read this file in.  \n",
    "\n",
    "  * Next, use `np.histogram()` to create a histogram array.  The output returns both the count and an array of edges.\n",
    "  \n",
    "  * Finally, loop over the bins and print out the bin center (averaging the left and right edges of the bin) and the count for that bin."
   ]
  },
  {
   "cell_type": "code",
   "execution_count": null,
   "metadata": {
    "collapsed": true
   },
   "outputs": [],
   "source": []
  },
  {
   "cell_type": "markdown",
   "metadata": {},
   "source": [
    "## Q7\n",
    "\n",
    "NumPy has a standard deviation function, `np.std()`, but here we'll write our own that works on a 1-d array (vector).  The standard\n",
    "deviation is a measure of the \"width\" of the distribution of numbers\n",
    "in the vector.\n",
    "\n",
    "Given an array, $a$, and an average $\\bar{a}$, the standard deviation\n",
    "is:\n",
    "$$\n",
    "\\sigma = \\left [ \\frac{1}{N} \\sum_{i=1}^N (a_i - \\bar{a})^2 \\right ]^{1/2}\n",
    "$$\n",
    "\n",
    "Write a function to calculate the standard deviation for an input array, `a`:\n",
    "\n",
    "  * First compute the average of the elements in `a` to define $\\bar{a}$\n",
    "  * Next compute the sum over the squares of $a - \\bar{a}$\n",
    "  * Then divide the sum by the number of elements in the array\n",
    "  * Finally take the square root (you can use `np.sqrt()`)\n",
    "  \n",
    "Test your function on a random array, and compare to the built-in `np.std()`"
   ]
  },
  {
   "cell_type": "code",
   "execution_count": null,
   "metadata": {
    "collapsed": true
   },
   "outputs": [],
   "source": []
  }
 ],
 "metadata": {
  "kernelspec": {
   "display_name": "Python 3",
   "language": "python",
   "name": "python3"
  },
  "language_info": {
   "codemirror_mode": {
    "name": "ipython",
    "version": 3
   },
   "file_extension": ".py",
   "mimetype": "text/x-python",
   "name": "python",
   "nbconvert_exporter": "python",
   "pygments_lexer": "ipython3",
   "version": "3.6.1"
  }
 },
 "nbformat": 4,
 "nbformat_minor": 2
}
